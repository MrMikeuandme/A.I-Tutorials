{
 "cells": [
  {
   "cell_type": "code",
   "execution_count": null,
   "metadata": {},
   "outputs": [],
   "source": []
  },
  {
   "cell_type": "markdown",
   "metadata": {},
   "source": [
    "# A.I 人工智能  我們來了 - 課程 0 1 \n",
    "## 基礎 課程 - 0 1\n",
    "\n",
    "- 講師 : Mr.Mike 老師\n",
    "- Time : 07:30 - 08:30 PM 17/Apr/2020                "
   ]
  },
  {
   "cell_type": "code",
   "execution_count": null,
   "metadata": {},
   "outputs": [],
   "source": [
    "\n"
   ]
  },
  {
   "cell_type": "markdown",
   "metadata": {},
   "source": [
    "# 课程亮点\n",
    "\n",
    "- 每次的課程 - \n",
    "  - 都有程式範例- 配合課程講解，及實踐！\n",
    "\n",
    "- 每次的課程 - \n",
    "  - 都會介紹新單元，人工智慧的理論基礎，演算法介紹 及 程式應用！ \n",
    "\n",
    "- 每次的課程 - \n",
    "  - 不是教很艱深的數學，統計學\n",
    "\n",
    "- 是讓每一個人能夠\n",
    "  - 了解 人工智能\n",
    " - 使用 人工智能"
   ]
  },
  {
   "cell_type": "code",
   "execution_count": null,
   "metadata": {},
   "outputs": [],
   "source": []
  },
  {
   "cell_type": "markdown",
   "metadata": {},
   "source": [
    "### 現在您不懂 A.I 沒有關係  - 上完課之後 ，您就會了 !\n",
    "    - If you don't know it , Don't worry about it , You will know it later \n",
    "\n",
    "### 如果您不知 從何處入手    - 跟著課程走 ，那就對了 !\n",
    "    - If you confusing a bits , Just go with us  "
   ]
  },
  {
   "cell_type": "code",
   "execution_count": null,
   "metadata": {},
   "outputs": [],
   "source": []
  },
  {
   "cell_type": "markdown",
   "metadata": {},
   "source": [
    "- 我們不是來，講 / 教 人工智能\n",
    "- 我們是來  ，讓做大家\n",
    "- 一起了解 人工智能\n",
    "- 一起使用 人工智能\n",
    "\n",
    "- 貧者因書而富\n",
    "- 富者因書而貴"
   ]
  },
  {
   "cell_type": "code",
   "execution_count": null,
   "metadata": {},
   "outputs": [],
   "source": []
  },
  {
   "cell_type": "markdown",
   "metadata": {},
   "source": [
    "# 萬事 起頭難 - 就 從現在開始"
   ]
  },
  {
   "cell_type": "code",
   "execution_count": null,
   "metadata": {},
   "outputs": [],
   "source": []
  },
  {
   "cell_type": "markdown",
   "metadata": {},
   "source": [
    "<table>\n",
    "<tr>\n",
    "    <td style=\"background:Lavender;\"><img src=\"http://www.scipy.org/_static/images/numpylogo_med.png\"  style=\"width:50px;height:50px;\" /></td>\n",
    "    <td style=\"background:Lavender;\"><h4>NumPy</h4> Base N-dimensional array package </td>\n",
    "    <td><img src=\"http://www.scipy.org/_static/images/scipy_med.png\" style=\"width:50px;height:50px;\" /></td>\n",
    "    <td><h4>SciPy</h4> Fundamental library for scientific computing </td>\n",
    "    <td><img src=\"http://www.scipy.org/_static/images/matplotlib_med.png\" style=\"width:50px;height:50px;\" /></td>\n",
    "    <td><h4>Matplotlib</h4> Comprehensive 2D Plotting </td>\n",
    "</tr>\n",
    "<tr>\n",
    "    <td><img src=\"http://www.scipy.org/_static/images/ipython.png\" style=\"width:50px;height:50px;\" /></td>\n",
    "    <td><h4>IPython</h4> Enhanced Interactive Console </td>\n",
    "    <td><img src=\"http://www.scipy.org/_static/images/sympy_logo.png\" style=\"width:50px;height:50px;\" /></td>\n",
    "    <td><h4>SymPy</h4> Symbolic mathematics </td>\n",
    "    <td><img src=\"http://www.scipy.org/_static/images/pandas_badge2.jpg\" style=\"width:50px;height:50px;\" /></td>\n",
    "    <td><h4>Pandas</h4> Data structures & analysis </td>\n",
    "</tr>\n",
    "</table>"
   ]
  },
  {
   "cell_type": "code",
   "execution_count": null,
   "metadata": {},
   "outputs": [],
   "source": []
  },
  {
   "cell_type": "markdown",
   "metadata": {},
   "source": [
    "# 本次課程 內容摘要"
   ]
  },
  {
   "cell_type": "code",
   "execution_count": null,
   "metadata": {},
   "outputs": [],
   "source": []
  },
  {
   "cell_type": "markdown",
   "metadata": {},
   "source": [
    "- 1. 人工智能     - 課程分享 平台\n",
    "- 2. 人工智慧技術  - 發展簡史\n",
    "- 3. 機器學習     - 在人工智慧領域的 位置 與 作用\n",
    "- 4. 課程介紹\n",
    "    - 4.1 課程 介紹\n",
    "    - 4.1 課程 工具，準備 及 安裝\n",
    "    - 4.2 pip / conda 基本認識 和 操作\n",
    "    - 4.3 Jupyter Notebook  認識 和  操作"
   ]
  },
  {
   "cell_type": "code",
   "execution_count": null,
   "metadata": {},
   "outputs": [],
   "source": []
  },
  {
   "cell_type": "markdown",
   "metadata": {},
   "source": [
    "# 1.人工智能 - 課程分享 平台"
   ]
  },
  {
   "cell_type": "code",
   "execution_count": null,
   "metadata": {},
   "outputs": [],
   "source": []
  },
  {
   "cell_type": "markdown",
   "metadata": {},
   "source": [
    "## A.I 基礎課程- \n",
    "   -  從零開始\n",
    "   -  新手入門\n",
    "- 由淺入深 \n",
    "- 從使用工具開始\n",
    "- Jupyter Notebook \n",
    "-   - Python 程式語言設計\n",
    "- 相關重要 工具/函式庫使用\n",
    "-  - Matplotlib \n",
    "-  - Numpy         \n",
    "-  - Pandas \n",
    "-  - Python 程式語言\n",
    "- 20 個單元\n",
    "- 4-5 次 課程"
   ]
  },
  {
   "cell_type": "code",
   "execution_count": null,
   "metadata": {},
   "outputs": [],
   "source": []
  },
  {
   "cell_type": "markdown",
   "metadata": {},
   "source": [
    "# 2. 人工智慧技術 發展簡史 "
   ]
  },
  {
   "cell_type": "code",
   "execution_count": null,
   "metadata": {},
   "outputs": [],
   "source": []
  },
  {
   "cell_type": "markdown",
   "metadata": {},
   "source": [
    "<img src=\"data/AI Timeline2.png\" width=\"50%\">"
   ]
  },
  {
   "cell_type": "code",
   "execution_count": null,
   "metadata": {},
   "outputs": [],
   "source": []
  },
  {
   "cell_type": "markdown",
   "metadata": {},
   "source": [
    "<img src=\"data/AI Timeline1.png\" width=\"50%\">"
   ]
  },
  {
   "cell_type": "code",
   "execution_count": null,
   "metadata": {},
   "outputs": [],
   "source": []
  },
  {
   "cell_type": "markdown",
   "metadata": {},
   "source": [
    "<img src=\"data/AI Timeline3.jpg\" width=\"75%\">"
   ]
  },
  {
   "cell_type": "code",
   "execution_count": null,
   "metadata": {},
   "outputs": [],
   "source": []
  },
  {
   "cell_type": "markdown",
   "metadata": {},
   "source": [
    "# 3.「 機器學習 」在人工智慧領域的 位置 與 作用"
   ]
  },
  {
   "cell_type": "code",
   "execution_count": null,
   "metadata": {},
   "outputs": [],
   "source": []
  },
  {
   "cell_type": "markdown",
   "metadata": {},
   "source": [
    "##  - 反過來看，希望 人工智能中 的「 機器學習 」 - 幫您做什麼"
   ]
  },
  {
   "cell_type": "markdown",
   "metadata": {},
   "source": [
    "## 人工智慧/人工智能"
   ]
  },
  {
   "cell_type": "markdown",
   "metadata": {},
   "source": [
    "- 人工智慧/人工智能（Artificial Intelligence, AI [Wiki , 1]）\n",
    "  - 由人製造出來的機器所表現出來的智慧\n",
    "\n",
    "- 是指電腦模擬/模擬人類思維過程以模仿人類能力或行為的能力\n",
    "\n",
    "- 人工智慧這個題目應該早在有計算機出來的時候\n",
    "  - 應該就有這個名詞的出現了\n",
    "    \n",
    "- 所以人工智慧這個名詞出現的非常早(早於1956年[1])"
   ]
  },
  {
   "cell_type": "code",
   "execution_count": null,
   "metadata": {},
   "outputs": [],
   "source": []
  },
  {
   "cell_type": "markdown",
   "metadata": {},
   "source": [
    "## 人工智慧、機器學習和深度學習的差異"
   ]
  },
  {
   "cell_type": "code",
   "execution_count": null,
   "metadata": {},
   "outputs": [],
   "source": []
  },
  {
   "cell_type": "markdown",
   "metadata": {},
   "source": [
    "- 人工智慧、機器學習和深度學習的差異\n",
    "  \n",
    "  - 人工智慧(Artificial Intelligence, AI)\n",
    "  - 機器學習(Machine Learning, ML)\n",
    "  - 深度學習(Deep Learning, DL)\n",
    "\n",
    "- 有什麼差別 ? "
   ]
  },
  {
   "cell_type": "code",
   "execution_count": null,
   "metadata": {},
   "outputs": [],
   "source": []
  },
  {
   "cell_type": "markdown",
   "metadata": {},
   "source": [
    "# 最簡單的理解"
   ]
  },
  {
   "cell_type": "code",
   "execution_count": null,
   "metadata": {},
   "outputs": [],
   "source": []
  },
  {
   "cell_type": "markdown",
   "metadata": {},
   "source": [
    "- 最簡單的理解\n",
    " - AI    : 電腦程式模擬人類要做的事情\n",
    " - ML和DL: 電腦程式模擬人類要做的事情\n",
    "         : 但電腦程式, 需要先有資料 ,進來學習的機制"
   ]
  },
  {
   "cell_type": "code",
   "execution_count": null,
   "metadata": {},
   "outputs": [],
   "source": []
  },
  {
   "cell_type": "markdown",
   "metadata": {},
   "source": [
    "## 看圖 說 故事"
   ]
  },
  {
   "cell_type": "code",
   "execution_count": null,
   "metadata": {},
   "outputs": [],
   "source": []
  },
  {
   "cell_type": "markdown",
   "metadata": {},
   "source": [
    "- ML 結構: 資料  → 特徵擷取         → 模型 → 答案\n",
    "- DL 結構: 資料  → 模型(特徵擷取自學)      → 答案"
   ]
  },
  {
   "cell_type": "markdown",
   "metadata": {},
   "source": [
    "<img src=\"data/1_eh48E1DUcz7uHusyRtIrhQ.png\" width=\"50%\">"
   ]
  },
  {
   "cell_type": "code",
   "execution_count": null,
   "metadata": {},
   "outputs": [],
   "source": []
  },
  {
   "cell_type": "code",
   "execution_count": null,
   "metadata": {},
   "outputs": [],
   "source": []
  },
  {
   "cell_type": "markdown",
   "metadata": {},
   "source": [
    "# 4. 課程介紹"
   ]
  },
  {
   "cell_type": "code",
   "execution_count": null,
   "metadata": {},
   "outputs": [],
   "source": []
  },
  {
   "cell_type": "markdown",
   "metadata": {},
   "source": [
    "- 課程簡介\n",
    "- 系統需求\n",
    "\n",
    "-  Window10 OS 64 bits (Tensorflow Backend 目前 只有 支援 64bits 作業系統)\n",
    "\n",
    "  - 安裝 Anaconda3\n",
    "  - 也會 使用 Spyder IDE\n",
    "  - 相關函式庫\n",
    "    - Jupyter Notebook (Interactive IDE ) 及 Python 程式語言基本需求\n",
    "        - Numpy\n",
    "        - Matplotlib\n",
    "        - Pandas\n",
    "\n",
    "- 機器學習(Machine Learning) \n",
    "  - 課程會以 Win 10 , Python程式語言 sklearn 函式庫 (Sciket-Learn) 為 課程分享 平台\n",
    "\n",
    "- 深度學習(Deep Learning) \n",
    "  - 課程會以 Win 10 , Python 程式語言 Keras 函式庫 , Tensflow 為 課程分享 平台\n",
    "\n",
    "- 卷積神經網路(Convolutional Neural Networks，CNN)\n",
    "  - 課程會以 Win 10 ,Python 程式語言 Keras 函式庫  , Tensflow為 課程分享 平台\n",
    "\n",
    "- 遞歸神經網路(Recurrent neural networks，RNN)\n",
    "\n",
    "\n",
    "- 計算機視覺  Computer Vision(CV)      \n",
    "\n",
    "- 語音識別    Voice/Speech Recognition \n",
    "\n",
    "\n",
    "\n",
    "- 課程會以 Win 10 ,Python 程式語言Keras , Tensflow ,NLTK自 然語言為 課程分享 平台\n",
    "\n",
    "- 系統模型建立與偵錯 (System structure  Build up and Debugging  ) \n",
    "  - Case Study\n",
    "\n",
    "- 產品模型應用(Scenario Model and Application) \n",
    "  - Case Study \n",
    "\n",
    "- 生意模式(Business Model )\n",
    "  - Case Study\n"
   ]
  },
  {
   "cell_type": "code",
   "execution_count": null,
   "metadata": {},
   "outputs": [],
   "source": []
  },
  {
   "cell_type": "markdown",
   "metadata": {},
   "source": [
    "# ～ 人工智慧 相關課程 ～"
   ]
  },
  {
   "cell_type": "markdown",
   "metadata": {},
   "source": [
    "# 人工智慧  基礎課程\n",
    "\n",
    "  - Artificial Intelligen       - 人工智慧  基礎課程 \n",
    "\n",
    "\n",
    "# 機器學習 Machine Learning\n",
    " \n",
    "  - Machine Learning --機器學習 - 基礎篇                  \n",
    "    \n",
    "  - Machine Learning --機器學習 - 實用篇\n",
    "\n",
    "\n",
    "\n",
    "\n",
    "# 深度學習 Deep Learning - 基礎篇\n",
    "  \n",
    "  - 建立一個簡單的神經網絡              Build a simple neural network \n",
    "  \n",
    "  - 卷積神經網路                        Convolution ​neural network （CNN）\n",
    "  \n",
    "  - 循環神經網絡                        Recurrent Neural Networks    ( RNN ) \n",
    "\n",
    "# Computer Vision(CV)    - 計算機視覺\n",
    "    \n",
    "  - 電腦視覺 介紹                       An Introduction to ComputerVision (CV)\n",
    "  \n",
    "  - 特徵檢測 & 人臉檢測                 Images Feature Detection &  Face Detection\n",
    "  \n",
    "  - 物體檢測                            Object Detection\n",
    "\n",
    "# Voice/Speech Recognition - 語音識別\n",
    "  \n",
    "  -  語音識別 介紹                           An Introduction to Speech Recognition  \n",
    "  \n",
    "  -  建立一個 KNN 語音分類器                   Building A KNN Audio Classification\n",
    "  \n",
    "  -  語音轉文字 模型                             Voice to text model \n",
    "  \n",
    "  -  端到端 - 自動語音識別                   End To End ASR - Attention \n",
    "\n",
    "\n",
    "# 深度學習 Deep Learning   - 進階課程\n",
    "\n",
    "  -  YoLo V1/V2/V3\n",
    "  -  SSD \n",
    "  -  R-CNN/Fast R-CNN/Faster R-CNN\n",
    "  -  Mask RCNN\n",
    "  -  Deeper Network \n",
    "  -  Capsule Network \n",
    "  -  CoCo DataSets\n",
    "  -  Making Own Datasets\n",
    "  -  Unet\n",
    "        \n",
    "  \n",
    "# ~ 持續增加中\n",
    "\n",
    "  - 深度學習 Deep Learning - 進階課程\n",
    "    \n",
    "    -  Moble Net \n",
    "    -  Dense Net\n",
    "    -  Audio Net \n",
    "    \n",
    "  - 機器學習 Machine Learning - 進階課程\n",
    "\n",
    "  - 數據處理 Data Processing \n",
    "        "
   ]
  },
  {
   "cell_type": "code",
   "execution_count": null,
   "metadata": {},
   "outputs": [],
   "source": []
  },
  {
   "cell_type": "markdown",
   "metadata": {},
   "source": [
    "- Object Detection "
   ]
  },
  {
   "cell_type": "markdown",
   "metadata": {},
   "source": [
    "<img src=\"data/Prediction@2x.png\" width=\"50%\">"
   ]
  },
  {
   "cell_type": "code",
   "execution_count": null,
   "metadata": {},
   "outputs": [],
   "source": []
  },
  {
   "cell_type": "code",
   "execution_count": null,
   "metadata": {},
   "outputs": [],
   "source": []
  },
  {
   "cell_type": "markdown",
   "metadata": {},
   "source": [
    "# 讓 我們 開始吧 ! "
   ]
  },
  {
   "cell_type": "code",
   "execution_count": null,
   "metadata": {},
   "outputs": [],
   "source": []
  },
  {
   "cell_type": "markdown",
   "metadata": {},
   "source": [
    "- 4.1 課程 工具，準備 及 安裝\n",
    "- 4.2 pip / conda 基本認識 和 操作\n",
    "- 4.3 Jupyter Notebook  認識 和  操作"
   ]
  },
  {
   "cell_type": "code",
   "execution_count": null,
   "metadata": {},
   "outputs": [],
   "source": []
  },
  {
   "cell_type": "markdown",
   "metadata": {},
   "source": [
    "## 4.1 課程 工具，準備 及 安裝\n",
    "- Anaconda \n",
    "- Jupyter Notebook \n",
    "- Python \n",
    "\n",
    "#### 每次課程 都提供 課程內容及程式範例 .ipynb ，自行練習"
   ]
  },
  {
   "cell_type": "code",
   "execution_count": null,
   "metadata": {},
   "outputs": [],
   "source": []
  },
  {
   "cell_type": "markdown",
   "metadata": {},
   "source": [
    "## 話不多說，下載安裝吧 !"
   ]
  },
  {
   "cell_type": "code",
   "execution_count": null,
   "metadata": {},
   "outputs": [],
   "source": []
  },
  {
   "cell_type": "markdown",
   "metadata": {},
   "source": [
    "## Python 程式語言 \n",
    "  - https://www.python.org/"
   ]
  },
  {
   "cell_type": "code",
   "execution_count": null,
   "metadata": {},
   "outputs": [],
   "source": []
  },
  {
   "cell_type": "markdown",
   "metadata": {},
   "source": [
    "## Anaconda 個人版  \n",
    "  - https://www.anaconda.com/distribution/"
   ]
  },
  {
   "cell_type": "markdown",
   "metadata": {},
   "source": [
    "## 1.安裝 Anaconda"
   ]
  },
  {
   "cell_type": "markdown",
   "metadata": {},
   "source": [
    "<img src=\"課程文件-01/anaconda-data-science-platform-chart3.png\" width=\"25%\">\n",
    "<img src=\"課程文件-01/pythonphote1.png\" width=\"25%\">"
   ]
  },
  {
   "cell_type": "code",
   "execution_count": null,
   "metadata": {},
   "outputs": [],
   "source": []
  },
  {
   "cell_type": "code",
   "execution_count": null,
   "metadata": {},
   "outputs": [],
   "source": []
  },
  {
   "cell_type": "markdown",
   "metadata": {},
   "source": [
    "- Anaconda下載最新版本\n",
    "  - 選擇 Windows平台\n",
    "  - Python 版本\n",
    "\n",
    "- Python 2、3 語法略有不同\n",
    "  - 先確認好版本再進行安裝\n",
    "    \n",
    "- 本篇教學 選擇是 Python 3.7 version 64-Bit\n",
    "\n",
    "- (PS.如果不知道自己電腦的是32-Bit、64-Bit，把滑鼠移到「我的電腦」點選右鍵可以看到。)"
   ]
  },
  {
   "cell_type": "code",
   "execution_count": null,
   "metadata": {},
   "outputs": [],
   "source": []
  },
  {
   "cell_type": "markdown",
   "metadata": {},
   "source": [
    "<img src=\"課程文件-01/python01.jpg\" width=\"50%\">"
   ]
  },
  {
   "cell_type": "code",
   "execution_count": null,
   "metadata": {},
   "outputs": [],
   "source": []
  },
  {
   "cell_type": "markdown",
   "metadata": {},
   "source": [
    "- 安裝過程就跟安裝其他程式\n",
    "- 一樣一直Next、I Agree再加上一些宣導跟環境設定\n",
    "- 以下\n",
    "  - 只列出需要選擇的畫面"
   ]
  },
  {
   "cell_type": "code",
   "execution_count": null,
   "metadata": {},
   "outputs": [],
   "source": []
  },
  {
   "cell_type": "markdown",
   "metadata": {},
   "source": [
    "- 如果是 自己開發用 \n",
    "  -就選第一項【Just Me】\n",
    "- 如果有 多名用戶要使用 \n",
    "  -可以選第二項(All Users)\n",
    "  - 需有Admin權限 "
   ]
  },
  {
   "cell_type": "code",
   "execution_count": null,
   "metadata": {},
   "outputs": [],
   "source": []
  },
  {
   "cell_type": "markdown",
   "metadata": {},
   "source": [
    "<img src=\"課程文件-01/python02.jpg\" width=\"50%\">"
   ]
  },
  {
   "cell_type": "code",
   "execution_count": null,
   "metadata": {},
   "outputs": [],
   "source": []
  },
  {
   "cell_type": "markdown",
   "metadata": {},
   "source": [
    "- 選擇【Anaconda】安裝路徑\n",
    "  - 如果不改變\n",
    "  - 就用預設就好"
   ]
  },
  {
   "cell_type": "code",
   "execution_count": null,
   "metadata": {},
   "outputs": [],
   "source": []
  },
  {
   "cell_type": "markdown",
   "metadata": {},
   "source": [
    "<img src=\"課程文件-01/python03.jpg\" width=\"50%\">"
   ]
  },
  {
   "cell_type": "code",
   "execution_count": null,
   "metadata": {},
   "outputs": [],
   "source": []
  },
  {
   "cell_type": "markdown",
   "metadata": {},
   "source": [
    "- 將 Anaconda加到PATH環境變數中\n",
    "- 官方建議不要打勾\n",
    "    - 選擇聽官方建議"
   ]
  },
  {
   "cell_type": "code",
   "execution_count": null,
   "metadata": {},
   "outputs": [],
   "source": []
  },
  {
   "cell_type": "markdown",
   "metadata": {},
   "source": [
    "<img src=\"課程文件-01/python04.jpg\" width=\"50%\">"
   ]
  },
  {
   "cell_type": "code",
   "execution_count": null,
   "metadata": {},
   "outputs": [],
   "source": []
  },
  {
   "cell_type": "markdown",
   "metadata": {},
   "source": [
    "- 安裝過程有點久因為有2.8G\n",
    "- 安裝完畢後\n",
    "  - 會詢問你要不要安裝 Visual Studio code\n",
    "\n",
    "- visual studio code 是微軟開發的程式碼編輯器\n",
    "  - 提供很多程式語言編譯 包含Python，是一套不錯的免費IDE\n",
    "  - 如果 習慣用微軟的IDE可以下載來使用\n",
    "\n",
    "- 但Anaconda 本身 就包含 Jupyter Notebook IDE\n",
    "- 選擇【Skip】"
   ]
  },
  {
   "cell_type": "code",
   "execution_count": null,
   "metadata": {},
   "outputs": [],
   "source": []
  },
  {
   "cell_type": "markdown",
   "metadata": {},
   "source": [
    "<img src=\"課程文件-01/python05.jpg\" width=\"50%\">"
   ]
  },
  {
   "cell_type": "code",
   "execution_count": null,
   "metadata": {},
   "outputs": [],
   "source": []
  },
  {
   "cell_type": "markdown",
   "metadata": {},
   "source": [
    "## 2. 測試 Python 環境 是否 安裝成功"
   ]
  },
  {
   "cell_type": "code",
   "execution_count": null,
   "metadata": {},
   "outputs": [],
   "source": []
  },
  {
   "cell_type": "markdown",
   "metadata": {},
   "source": [
    "- 先執行 Python 的開發工具\n",
    "\n",
    "- 在 開始\\所有程式\n",
    "- 找到 Jupyter Notebook 執行"
   ]
  },
  {
   "cell_type": "code",
   "execution_count": null,
   "metadata": {},
   "outputs": [],
   "source": []
  },
  {
   "cell_type": "markdown",
   "metadata": {},
   "source": [
    "<img src=\"課程文件-01/python06.jpg\" width=\"25%\">"
   ]
  },
  {
   "cell_type": "code",
   "execution_count": null,
   "metadata": {},
   "outputs": [],
   "source": []
  },
  {
   "cell_type": "markdown",
   "metadata": {},
   "source": [
    "- 執行後會跳出Jupyter的編譯網站\n",
    "- Jupyter \n",
    "  -是透過 瀏覽器的方式進行操作"
   ]
  },
  {
   "cell_type": "code",
   "execution_count": null,
   "metadata": {},
   "outputs": [],
   "source": []
  },
  {
   "cell_type": "markdown",
   "metadata": {},
   "source": [
    "<img src=\"課程文件-01/python07.jpg\" width=\"50%\">"
   ]
  },
  {
   "cell_type": "code",
   "execution_count": null,
   "metadata": {},
   "outputs": [],
   "source": []
  },
  {
   "cell_type": "markdown",
   "metadata": {},
   "source": [
    "- 建立一個 Python 測試檔\n",
    "- 右上角找到【New】選擇【Python 3】\n",
    "- 接著\n",
    "  -就會出現一個 編譯 Python 的網頁"
   ]
  },
  {
   "cell_type": "code",
   "execution_count": null,
   "metadata": {},
   "outputs": [],
   "source": []
  },
  {
   "cell_type": "markdown",
   "metadata": {},
   "source": [
    "<img src=\"課程文件-01/python08.jpg\" width=\"50%\">"
   ]
  },
  {
   "cell_type": "code",
   "execution_count": null,
   "metadata": {},
   "outputs": [],
   "source": []
  },
  {
   "cell_type": "markdown",
   "metadata": {},
   "source": [
    "- 輸入一些Python 語法 \n",
    "- 測試看看是否能Run起來\n",
    "- 把程式碼輸入到 In []這個區塊內\n",
    "- 輸入完程式碼後執行上方的Run看看結果是怎樣\n",
    "  \n",
    "- 以下\n",
    "  - 分別輸入兩段 print 來測試\n",
    "\n",
    "- print(\" Hello World \")\n",
    "- print(\" Welcome to A.I World \")"
   ]
  },
  {
   "cell_type": "code",
   "execution_count": null,
   "metadata": {},
   "outputs": [],
   "source": []
  },
  {
   "cell_type": "markdown",
   "metadata": {},
   "source": [
    "<img src=\"課程文件-01/python09.jpg\" width=\"50%\">"
   ]
  },
  {
   "cell_type": "code",
   "execution_count": null,
   "metadata": {},
   "outputs": [],
   "source": []
  },
  {
   "cell_type": "markdown",
   "metadata": {},
   "source": [
    "## anaconda 官方網站\n",
    "- https://www.anaconda.com/"
   ]
  },
  {
   "cell_type": "code",
   "execution_count": null,
   "metadata": {},
   "outputs": [],
   "source": []
  },
  {
   "cell_type": "markdown",
   "metadata": {},
   "source": [
    "<img src=\"課程文件-01/anaconda-data-science-platform-chart3.png\" width=\"50%\">"
   ]
  },
  {
   "cell_type": "code",
   "execution_count": null,
   "metadata": {},
   "outputs": [],
   "source": []
  },
  {
   "cell_type": "code",
   "execution_count": null,
   "metadata": {},
   "outputs": [],
   "source": []
  },
  {
   "cell_type": "markdown",
   "metadata": {},
   "source": [
    "# 4.0 python 程式庫/包 管理工具\n",
    "\n",
    "- conda 和 pip \n",
    "\n",
    "- 兩者 是一個用於 安裝 和 管理 程式庫 / 軟件包 的 包管理系統 !"
   ]
  },
  {
   "cell_type": "markdown",
   "metadata": {},
   "source": [
    "### Conda 和 pip 通常 被認為  幾乎完全相同\n",
    "  - 雖然 這兩個工具的 某些功能重疊\n",
    "  - 但設計 用於不同的目的\n",
    "\n",
    "- Pip\n",
    "  - 是 Python Packaging Authority 推薦的用於\n",
    "   - Python Package Index (pypi) 安裝包的工具\n",
    "\n",
    "- Conda\n",
    "  - 是跨平台的包和環境管理器\n",
    "    - 可以 安裝 和 管理 來 自Anaconda repository 以 Anaconda Cloud 的 conda 包\n",
    "\n",
    "### conda 和 pip之間 的 關鍵區別\n",
    "  - Pip   安裝 Python 包\n",
    "  - conda 安裝包 可能包含用任何語言編寫的軟體的包\n",
    "\n",
    "  - 在使用 pip 之前\n",
    "    - 必須通過系統包管理器 或 下載 並運行安裝程序來安裝Python解釋器\n",
    "    \n",
    "  - Conda 可以 直接安裝 Python包 以及 Python解釋器"
   ]
  },
  {
   "cell_type": "code",
   "execution_count": null,
   "metadata": {},
   "outputs": [],
   "source": []
  },
  {
   "cell_type": "markdown",
   "metadata": {},
   "source": [
    "## 4.1 pip 基本認識 和 操作"
   ]
  },
  {
   "cell_type": "markdown",
   "metadata": {},
   "source": [
    "- pip 是一個 程式庫 / 軟件包 管理器，便於安裝，升級 和 卸載 python 包\n",
    "  - pip(package management system) 檔案包管理系統\n",
    "\n",
    "- https://pip.pypa.io/en/stable/reference/\n",
    "- https://pip.pypa.io/en/stable/user_guide/\n"
   ]
  },
  {
   "cell_type": "markdown",
   "metadata": {},
   "source": [
    "- Demo"
   ]
  },
  {
   "cell_type": "code",
   "execution_count": null,
   "metadata": {},
   "outputs": [],
   "source": [
    "!pip help"
   ]
  },
  {
   "cell_type": "code",
   "execution_count": null,
   "metadata": {},
   "outputs": [],
   "source": []
  },
  {
   "cell_type": "code",
   "execution_count": null,
   "metadata": {},
   "outputs": [],
   "source": [
    "!pip list"
   ]
  },
  {
   "cell_type": "code",
   "execution_count": null,
   "metadata": {},
   "outputs": [],
   "source": []
  },
  {
   "cell_type": "code",
   "execution_count": null,
   "metadata": {},
   "outputs": [],
   "source": [
    "!pip search Pympler"
   ]
  },
  {
   "cell_type": "code",
   "execution_count": null,
   "metadata": {},
   "outputs": [],
   "source": []
  },
  {
   "cell_type": "raw",
   "metadata": {},
   "source": [
    "======================= \n",
    "pip    基本指令練習\n",
    "=======================\n",
    "pip 基本指令練習 \n",
    "cls\n",
    "pip help\n",
    "pip help install\n",
    "pip search Pympler \n",
    "pip install Pympler  \n",
    "pip list\n",
    "pip uninstall Pympler\n",
    "pip list\n",
    "pip list -o , pip list --outdated \n",
    "pip install -U conda\n",
    "pip list (check version after upgraded)\n",
    "pip show zict\n",
    "pip freeze > requirements.txt\n",
    "pip list --outdated \n",
    "pip cls\n",
    "======================="
   ]
  },
  {
   "cell_type": "code",
   "execution_count": null,
   "metadata": {},
   "outputs": [],
   "source": []
  },
  {
   "cell_type": "markdown",
   "metadata": {},
   "source": [
    "## 4.2 conda 基本認識 和 操作"
   ]
  },
  {
   "cell_type": "markdown",
   "metadata": {},
   "source": [
    "- conda 是 任何軟件 (安裝， 升級 和 卸載 ) 的程式庫 / 軟件包 管理器 \n",
    "\n",
    "- https://conda.io/docs/user-guide/index.html\n",
    "- hhttps://conda.io/docs/commands.html\n"
   ]
  },
  {
   "cell_type": "markdown",
   "metadata": {},
   "source": [
    "- Demo"
   ]
  },
  {
   "cell_type": "code",
   "execution_count": null,
   "metadata": {},
   "outputs": [],
   "source": [
    "!conda help"
   ]
  },
  {
   "cell_type": "code",
   "execution_count": null,
   "metadata": {},
   "outputs": [],
   "source": [
    "!conda list"
   ]
  },
  {
   "cell_type": "code",
   "execution_count": null,
   "metadata": {},
   "outputs": [],
   "source": [
    "!conda search Pympler"
   ]
  },
  {
   "cell_type": "code",
   "execution_count": null,
   "metadata": {},
   "outputs": [],
   "source": []
  },
  {
   "cell_type": "code",
   "execution_count": null,
   "metadata": {},
   "outputs": [],
   "source": [
    "======================= \n",
    "conda  基本指令練習\n",
    "=======================\n",
    "conda list \n",
    "search find usefull package :\n",
    "ipython ,jupyter, nltk,nose(unit testing),numpy,pillow \n",
    "scikit-learn, scipy, qlalchemy(SQL)\n",
    "python  \n",
    "import numpy \n",
    "import scipy\n",
    "import matplotlib \n",
    "Ctrl-Z\n",
    "pip -V python\n",
    "python\n",
    "print(\"Welcome to AI 課程\")\n",
    "\n",
    "Use exit() or Ctrl-Z plus Return to exit"
   ]
  },
  {
   "cell_type": "code",
   "execution_count": null,
   "metadata": {},
   "outputs": [],
   "source": []
  },
  {
   "cell_type": "code",
   "execution_count": null,
   "metadata": {},
   "outputs": [],
   "source": []
  },
  {
   "cell_type": "markdown",
   "metadata": {},
   "source": [
    "## 4.3 Jupyter Notebook 認識 和 操作"
   ]
  },
  {
   "cell_type": "markdown",
   "metadata": {},
   "source": [
    "- Web server\n",
    "- 網頁伺服器(Web server) 有兩個意思：\n",
    "  - https://zh.wikipedia.org/wiki/%E7%B6%B2%E9%A0%81%E4%BC%BA%E6%9C%8D%E5%99%A8\n",
    "\n",
    "- 一台 負責 提供網頁 的電腦\n",
    "  - 主要是各種程式語言構建而成，透過HTTP 協定 傳給客戶端(一般是指網頁瀏覽器)\n",
    "\n",
    "- 一個提供 網頁的 伺服器程式"
   ]
  },
  {
   "cell_type": "code",
   "execution_count": null,
   "metadata": {},
   "outputs": [],
   "source": []
  },
  {
   "cell_type": "markdown",
   "metadata": {},
   "source": [
    "## ipython\n",
    "\n",
    "- https://zh.wikipedia.org/wiki/IPython\n",
    "- http://www.ipython.org/\n",
    "\n",
    "- ipython (interactive python) \n",
    "  - IPython 是一種 基於 Python的交互式解釋器\n",
    "  - IPython 提供 了更為強大的 編輯 和 交互功能"
   ]
  },
  {
   "cell_type": "markdown",
   "metadata": {},
   "source": [
    "- DEMO\n",
    "  - Live Demo"
   ]
  },
  {
   "cell_type": "code",
   "execution_count": null,
   "metadata": {},
   "outputs": [],
   "source": []
  },
  {
   "cell_type": "code",
   "execution_count": null,
   "metadata": {},
   "outputs": [],
   "source": [
    "!conda list "
   ]
  },
  {
   "cell_type": "code",
   "execution_count": null,
   "metadata": {},
   "outputs": [],
   "source": []
  },
  {
   "cell_type": "code",
   "execution_count": 7,
   "metadata": {},
   "outputs": [
    {
     "name": "stdout",
     "output_type": "stream",
     "text": [
      "Loading channels: ...working... done\n",
      "# Name                       Version           Build  Channel             \n",
      "ipython                        5.4.1          py27_2  pkgs/main           \n",
      "ipython                        5.4.1  py27hbf971b4_1  pkgs/main           \n",
      "ipython                        5.4.1          py35_2  pkgs/main           \n",
      "ipython                        5.4.1          py36_2  pkgs/main           \n",
      "ipython                        5.5.0          py27_0  pkgs/main           \n",
      "ipython                        5.5.0          py35_0  pkgs/main           \n",
      "ipython                        5.5.0          py36_0  pkgs/main           \n",
      "ipython                        5.6.0          py27_0  pkgs/main           \n",
      "ipython                        5.6.0          py35_0  pkgs/main           \n",
      "ipython                        5.6.0          py36_0  pkgs/main           \n",
      "ipython                        5.7.0          py27_0  pkgs/main           \n",
      "ipython                        5.8.0          py27_0  pkgs/main           \n",
      "ipython                        5.8.0          py35_0  pkgs/main           \n",
      "ipython                        5.8.0          py36_0  pkgs/main           \n",
      "ipython                        5.8.0          py37_0  pkgs/main           \n",
      "ipython                        6.1.0  py35haf90630_1  pkgs/main           \n",
      "ipython                        6.1.0  py36h236ecc8_1  pkgs/main           \n",
      "ipython                        6.2.1  py35h4a2ac14_1  pkgs/main           \n",
      "ipython                        6.2.1  py36h9cf0123_1  pkgs/main           \n",
      "ipython                        6.3.0          py35_0  pkgs/main           \n",
      "ipython                        6.3.0          py36_0  pkgs/main           \n",
      "ipython                        6.3.1          py35_0  pkgs/main           \n",
      "ipython                        6.3.1          py36_0  pkgs/main           \n",
      "ipython                        6.4.0          py35_0  pkgs/main           \n",
      "ipython                        6.4.0          py36_0  pkgs/main           \n",
      "ipython                        6.4.0          py36_1  pkgs/main           \n",
      "ipython                        6.4.0          py37_1  pkgs/main           \n",
      "ipython                        6.5.0          py35_0  pkgs/main           \n",
      "ipython                        6.5.0          py36_0  pkgs/main           \n",
      "ipython                        6.5.0          py37_0  pkgs/main           \n",
      "ipython                        7.0.1  py36h39e3cac_0  pkgs/main           \n",
      "ipython                        7.0.1  py37h39e3cac_0  pkgs/main           \n",
      "ipython                        7.1.1  py36h39e3cac_0  pkgs/main           \n",
      "ipython                        7.1.1  py37h39e3cac_0  pkgs/main           \n",
      "ipython                        7.2.0  py36h39e3cac_0  pkgs/main           \n",
      "ipython                        7.2.0  py37h39e3cac_0  pkgs/main           \n",
      "ipython                        7.3.0  py36h39e3cac_0  pkgs/main           \n",
      "ipython                        7.3.0  py37h39e3cac_0  pkgs/main           \n",
      "ipython                        7.4.0  py36h39e3cac_0  pkgs/main           \n",
      "ipython                        7.4.0  py37h39e3cac_0  pkgs/main           \n",
      "ipython                        7.5.0  py36h39e3cac_0  pkgs/main           \n",
      "ipython                        7.5.0  py37h39e3cac_0  pkgs/main           \n",
      "ipython                        7.6.0  py36h39e3cac_0  pkgs/main           \n",
      "ipython                        7.6.0  py37h39e3cac_0  pkgs/main           \n",
      "ipython                        7.6.1  py36h39e3cac_0  pkgs/main           \n",
      "ipython                        7.6.1  py37h39e3cac_0  pkgs/main           \n",
      "ipython                        7.7.0  py36h39e3cac_0  pkgs/main           \n",
      "ipython                        7.7.0  py37h39e3cac_0  pkgs/main           \n",
      "ipython                        7.8.0  py36h39e3cac_0  pkgs/main           \n",
      "ipython                        7.8.0  py37h39e3cac_0  pkgs/main           \n",
      "ipython                        7.9.0  py36h39e3cac_0  pkgs/main           \n",
      "ipython                        7.9.0  py37h39e3cac_0  pkgs/main           \n",
      "ipython                        7.9.0  py38h39e3cac_0  pkgs/main           \n",
      "ipython                       7.10.1  py36h39e3cac_0  pkgs/main           \n",
      "ipython                       7.10.1  py37h39e3cac_0  pkgs/main           \n",
      "ipython                       7.10.1  py38h39e3cac_0  pkgs/main           \n",
      "ipython                       7.10.2  py36h39e3cac_0  pkgs/main           \n",
      "ipython                       7.10.2  py37h39e3cac_0  pkgs/main           \n",
      "ipython                       7.10.2  py38h39e3cac_0  pkgs/main           \n",
      "ipython                       7.11.1  py36h39e3cac_0  pkgs/main           \n",
      "ipython                       7.11.1  py37h39e3cac_0  pkgs/main           \n",
      "ipython                       7.11.1  py38h39e3cac_0  pkgs/main           \n",
      "ipython                       7.12.0  py36h5ca1d4c_0  pkgs/main           \n",
      "ipython                       7.12.0  py37h5ca1d4c_0  pkgs/main           \n",
      "ipython                       7.12.0  py38h5ca1d4c_0  pkgs/main           \n",
      "ipython                       7.13.0  py36h5ca1d4c_0  pkgs/main           \n",
      "ipython                       7.13.0  py37h5ca1d4c_0  pkgs/main           \n",
      "ipython                       7.13.0  py38h5ca1d4c_0  pkgs/main           \n"
     ]
    }
   ],
   "source": [
    "!conda search ipython"
   ]
  },
  {
   "cell_type": "code",
   "execution_count": null,
   "metadata": {},
   "outputs": [],
   "source": []
  },
  {
   "cell_type": "code",
   "execution_count": null,
   "metadata": {},
   "outputs": [],
   "source": [
    "!ipython"
   ]
  },
  {
   "cell_type": "markdown",
   "metadata": {},
   "source": [
    "- Anaconda prompt \n",
    "\n",
    "- conda list \n",
    "- conda search ipython\n",
    "- ipython"
   ]
  },
  {
   "cell_type": "code",
   "execution_count": null,
   "metadata": {},
   "outputs": [],
   "source": []
  },
  {
   "cell_type": "code",
   "execution_count": null,
   "metadata": {},
   "outputs": [],
   "source": [
    "Python 3.6.5 |Anaconda, Inc.| (default, Mar 29 2018, 13:32:41) [MSC v.1900 64 bit (AMD64)]\n",
    "Type 'copyright', 'credits' or 'license' for more information\n",
    "IPython 6.4.0 -- An enhanced Interactive Python. Type '?' for help.\n",
    "\n",
    "In [1]: import numpy \n",
    "\n",
    "In [2]: import matplotlib as plt\n",
    "\n",
    "In [3]: import scipy\n",
    "\n",
    "In [4]: import math\n",
    "\n",
    "In [9]: print(math.pi)\n",
    "3.141592653589793\n",
    "\n",
    "In [1]: a=10\n",
    "In [2]: b=3**5\n",
    "\n",
    "In [3]: c=a*b\n",
    "\n",
    "In [4]: c\n",
    "Out[4]: 2430\n",
    "\n",
    "In [5]: c\n",
    "Out[5]: 2430\n",
    "\n",
    "In [6]: exit\n"
   ]
  },
  {
   "cell_type": "code",
   "execution_count": null,
   "metadata": {},
   "outputs": [],
   "source": []
  },
  {
   "cell_type": "code",
   "execution_count": null,
   "metadata": {},
   "outputs": [],
   "source": []
  },
  {
   "cell_type": "markdown",
   "metadata": {},
   "source": [
    "# Jupyter Notebook 基本功能 了解\n",
    "\n",
    "- Anaconda Prompt / cmd 執行\n",
    "- jupyter notebook \n",
    "- ipython\n",
    "- python"
   ]
  },
  {
   "cell_type": "code",
   "execution_count": null,
   "metadata": {},
   "outputs": [],
   "source": []
  },
  {
   "cell_type": "markdown",
   "metadata": {},
   "source": [
    "## jupyter Notebook \n",
    "\n",
    "- anacomda Prompt  \n",
    "- CMD\n",
    "\n",
    "- 進入\n",
    "\n",
    "- Control-C \n",
    " \n",
    "- 停止"
   ]
  },
  {
   "cell_type": "code",
   "execution_count": null,
   "metadata": {},
   "outputs": [],
   "source": []
  },
  {
   "cell_type": "code",
   "execution_count": null,
   "metadata": {},
   "outputs": [],
   "source": [
    "(base) C:\\Users>\n",
    "\n",
    "> conda list\n",
    "\n",
    "> jupyter notebook\n",
    "[I 21:17:54.490 NotebookApp] JupyterLab beta preview extension loaded from C:\\Users\\KelvinLiang\\Anaconda3\\lib\\site-packages\\jupyterlab\n",
    "[I 21:17:54.490 NotebookApp] JupyterLab application directory is C:\\Users\\KelvinLiang\\Anaconda3\\share\\jupyter\\lab\n",
    "[I 21:17:54.724 NotebookApp] Serving notebooks from local directory: C:\\Users\\KelvinLiang\n",
    "[I 21:17:54.724 NotebookApp] 0 active kernels\n",
    "[I 21:17:54.724 NotebookApp] The Jupyter Notebook is running at:\n",
    "[I 21:17:54.724 NotebookApp] http://localhost:8888/?token=f42962e39b1c1627ae38bf00735c68a0fde76158424f22b4\n",
    "[I 21:17:54.724 NotebookApp] Use Control-C to stop this server and shut down all kernels (twice to skip confirmation).\n",
    "[C 21:17:54.724 NotebookApp]\n",
    "\n",
    "    Copy/paste this URL into your browser when you connect for the first time,\n",
    "    to login with a token:\n",
    "        http://localhost:8888/?token=f42962e39b1c1627ae38bf00735c68a0fde76158424f22b4&token=f42962e39b1c1627ae38bf00735c68a0fde76158424f22b4\n",
    "[I 21:17:54.881 NotebookApp] Accepting one-time-token-authenticated connection from ::1\n",
    " \n",
    "Use Control-C to stop this server and shut down all kernels (twice to skip confirmation)\n",
    "使用Control-C停止此服務器並關閉所有內核(兩次跳過確認)\n",
    "\n",
    "> "
   ]
  },
  {
   "cell_type": "markdown",
   "metadata": {},
   "source": [
    "- Demo\n",
    "  - Live Demo"
   ]
  },
  {
   "cell_type": "code",
   "execution_count": null,
   "metadata": {},
   "outputs": [],
   "source": []
  },
  {
   "cell_type": "markdown",
   "metadata": {},
   "source": [
    "# 將 Python  程式.py 檔案 轉成 .exe 檔\n",
    "## PyInstaller 函式庫\n",
    "   - 將python code 打包 - pyinstaller"
   ]
  },
  {
   "cell_type": "code",
   "execution_count": null,
   "metadata": {},
   "outputs": [],
   "source": [
    "- python  myfile.py "
   ]
  },
  {
   "cell_type": "code",
   "execution_count": null,
   "metadata": {},
   "outputs": [],
   "source": []
  },
  {
   "cell_type": "code",
   "execution_count": null,
   "metadata": {},
   "outputs": [],
   "source": [
    "! pip install PyInstaller"
   ]
  },
  {
   "cell_type": "code",
   "execution_count": null,
   "metadata": {},
   "outputs": [],
   "source": [
    "======================================================\n",
    "將 Python  程式.py 檔案 轉成 .exe 檔\n",
    "======================================================\n",
    "File.py , File.ipynb , File.exe \n",
    "\n",
    "edit file.py  \n",
    "\n",
    "### This is first Python program code save file.py\n",
    "### Use pyinstaller cober file.py to file.exe \n",
    "### Author : AI man Date : 03-Dec-2018 \n",
    "\n",
    "\n",
    "print(\" Welocme to A.I world\")\n",
    "print(\"   歡迎來到 AI 世界 \")\n",
    "\n",
    "a=input(\" please input any key to Escape \")\n",
    "\n",
    "pip install https://github.com/pyinstaller/pyinstaller/archive/develop.zip\n",
    "\n",
    "===========================================================================    \n",
    "pyinstaller -F file.py    \n",
    "pyinstaller    file.py  \n",
    "\n",
    "## \n",
    "-h :help\n",
    "-F : 將程式打包 成 單一執行檔 \n",
    "     - 適合較簡易的代碼 或 只有單一.py檔\n",
    "-D : 打包多個文件\n",
    "     - exe檔 及 依賴的東西 \n",
    "     - 會一起放置 在 dist 資料夾 內\n",
    "       - 適合框架形式的程式\n",
    "## \n",
    "===========================================================================\n",
    "\n",
    "### covert file.py to file.exe 檔 py\n",
    "### 尋找       file.exe 檔案\n",
    "### run (執行) file.exe\n"
   ]
  },
  {
   "cell_type": "markdown",
   "metadata": {},
   "source": [
    "<img src=\"課程文件-03/1_mNctyMcvvulPvqWQEiTV4A.png\" width=\"25%\">\n",
    "\n",
    "## 進入「dist」資料夾可看見執行檔\n",
    "## 何謂 __pycache__ ?\n",
    "   - 放編譯時 需要的檔案 用的檔案\n",
    "   - 在python中運行程序時\n",
    "   - 解釋器 首先\n",
    "     - 將其編譯 為字節碼 \n",
    "     - 將其存儲在__pycache__文件夾中\n",
    "     - ~ 代碼日誌\n",
    "    "
   ]
  },
  {
   "cell_type": "code",
   "execution_count": null,
   "metadata": {},
   "outputs": [],
   "source": []
  },
  {
   "cell_type": "markdown",
   "metadata": {},
   "source": [
    "<img src=\"課程文件-01/anaconda-data-science-platform-chart3.png\" width=\"50%\">"
   ]
  },
  {
   "cell_type": "code",
   "execution_count": null,
   "metadata": {},
   "outputs": [],
   "source": []
  },
  {
   "cell_type": "code",
   "execution_count": null,
   "metadata": {},
   "outputs": [],
   "source": []
  },
  {
   "cell_type": "markdown",
   "metadata": {},
   "source": [
    "# 讓 我們 繼續 看下去"
   ]
  },
  {
   "cell_type": "code",
   "execution_count": null,
   "metadata": {},
   "outputs": [],
   "source": []
  },
  {
   "cell_type": "code",
   "execution_count": null,
   "metadata": {},
   "outputs": [],
   "source": [
    "from IPython.display import Video\n",
    "Video(\"kangaroo_yolov2.mp4\")"
   ]
  },
  {
   "cell_type": "code",
   "execution_count": null,
   "metadata": {},
   "outputs": [],
   "source": []
  },
  {
   "cell_type": "code",
   "execution_count": null,
   "metadata": {},
   "outputs": [],
   "source": [
    "from IPython.display import Video\n",
    "Video(\"car_chase_01_detected.avi\")"
   ]
  },
  {
   "cell_type": "code",
   "execution_count": null,
   "metadata": {},
   "outputs": [],
   "source": []
  }
 ],
 "metadata": {
  "kernelspec": {
   "display_name": "Python 3",
   "language": "python",
   "name": "python3"
  },
  "language_info": {
   "codemirror_mode": {
    "name": "ipython",
    "version": 3
   },
   "file_extension": ".py",
   "mimetype": "text/x-python",
   "name": "python",
   "nbconvert_exporter": "python",
   "pygments_lexer": "ipython3",
   "version": "3.7.4"
  }
 },
 "nbformat": 4,
 "nbformat_minor": 2
}
